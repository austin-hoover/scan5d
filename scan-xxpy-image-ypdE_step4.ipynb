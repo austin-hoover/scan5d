{
 "cells": [
  {
   "cell_type": "markdown",
   "id": "d57c07ab-d192-4b0c-8548-8d4b1f8bf7f4",
   "metadata": {},
   "source": [
    "# Step 4: visualization"
   ]
  },
  {
   "cell_type": "code",
   "execution_count": 1,
   "id": "bde7f506-2600-46d2-b1cc-86b60b566413",
   "metadata": {},
   "outputs": [],
   "source": [
    "import sys\n",
    "import os\n",
    "from os.path import join\n",
    "import time\n",
    "from datetime import datetime\n",
    "import importlib\n",
    "import numpy as np\n",
    "import urllib.request\n",
    "from tqdm import tqdm\n",
    "from tqdm import trange\n",
    "import matplotlib as mpl\n",
    "from matplotlib import pyplot as plt\n",
    "from matplotlib import colors\n",
    "from matplotlib import patches\n",
    "import plotly.graph_objs as go\n",
    "from ipywidgets import interact\n",
    "from ipywidgets import interactive\n",
    "from ipywidgets import interactive_output\n",
    "from ipywidgets import widgets\n",
    "from IPython.display import display\n",
    "from IPython.display import clear_output\n",
    "import proplot as pplt\n",
    "\n",
    "from tools import plotting as mplt\n",
    "from tools import utils"
   ]
  },
  {
   "cell_type": "code",
   "execution_count": 2,
   "id": "27b21d49-8ae0-4e4e-9d31-18f30b35f6d3",
   "metadata": {},
   "outputs": [],
   "source": [
    "mpl.rcParams['path.simplify'] = True\n",
    "mpl.rcParams['path.simplify_threshold'] = 1.0\n",
    "mpl.style.use('fast')\n",
    "pplt.rc['grid'] = False\n",
    "pplt.rc['cmap.discrete'] = False\n",
    "pplt.rc['cmap.sequential'] = 'viridis'\n",
    "pplt.rc['figure.facecolor'] = 'white'"
   ]
  },
  {
   "cell_type": "markdown",
   "id": "72376da5-ed21-47f6-9c30-fe11aeb184d9",
   "metadata": {},
   "source": [
    "## Load data "
   ]
  },
  {
   "cell_type": "markdown",
   "id": "4ae56a18-211e-4e05-b75f-d8a5a2f716f1",
   "metadata": {},
   "source": [
    "The distribution file is a bit too large (4GB) to store on GitHub, so it needs to be downloaded when the notebook is run. This takes at least ten minutes. Binder normally alocates 2GB of memory for notebooks, but in my case it looks like they gave me 8GB; even so, it is easy to go over this limit and kill the notebook. The following 2D plots seem to work okay in isolation."
   ]
  },
  {
   "cell_type": "code",
   "execution_count": null,
   "id": "6d1b4853-0783-4137-b9a7-20157bfcd530",
   "metadata": {},
   "outputs": [],
   "source": [
    "url = \"https://www.dropbox.com/s/a7uw6e5ef59oli5/a5d_new.mmp?dl=1\"\n",
    "filename = \"a5d_new.mmp\"\n",
    "urllib.request.urlretrieve(url, filename)"
   ]
  },
  {
   "cell_type": "markdown",
   "id": "e9d46027-149d-445c-8419-82b0f656e35e",
   "metadata": {},
   "source": [
    "## Load data "
   ]
  },
  {
   "cell_type": "code",
   "execution_count": null,
   "id": "daa40b99-f912-4a13-b157-18ca5b93cd22",
   "metadata": {},
   "outputs": [],
   "source": [
    "folder = '.'"
   ]
  },
  {
   "cell_type": "code",
   "execution_count": null,
   "id": "3ef9ce2f-f73b-4949-b560-5e987d9326a4",
   "metadata": {},
   "outputs": [],
   "source": [
    "shape = tuple(np.loadtxt(join(folder, 'a5d_new_shape.txt')).astype(int))\n",
    "shape"
   ]
  },
  {
   "cell_type": "code",
   "execution_count": null,
   "id": "aa667a98-9d95-4163-9f51-45d1360cd93f",
   "metadata": {},
   "outputs": [],
   "source": [
    "coords = utils.load_stacked_arrays(join(folder, 'coords.npz'))\n",
    "for c in coords:\n",
    "    print(c.shape)"
   ]
  },
  {
   "cell_type": "code",
   "execution_count": null,
   "id": "96cbe823-0da8-4033-a64b-7ed46bfd8832",
   "metadata": {},
   "outputs": [],
   "source": [
    "f = np.memmap(join(folder, 'a5d_new.mmp'), shape=shape, dtype='float', mode='r')"
   ]
  },
  {
   "cell_type": "code",
   "execution_count": null,
   "id": "fddf7705-b2e7-4180-a0bb-5ac824466282",
   "metadata": {},
   "outputs": [],
   "source": [
    "print(f'min(f) = {np.min(f)}')\n",
    "f = np.clip(f, 0.0, None)"
   ]
  },
  {
   "cell_type": "markdown",
   "id": "e1123dc5-8382-4a8d-9200-ebee3757c507",
   "metadata": {},
   "source": [
    "Flip the energy axis (to make up for previous sign error)."
   ]
  },
  {
   "cell_type": "code",
   "execution_count": null,
   "id": "1de7b164-7ac6-4139-bd79-980b6853b308",
   "metadata": {},
   "outputs": [],
   "source": [
    "f = f[..., ::-1]"
   ]
  },
  {
   "cell_type": "markdown",
   "id": "b97c1d88-e0a3-4fb7-a729-e25258a3a5e9",
   "metadata": {},
   "source": [
    "## Plot "
   ]
  },
  {
   "cell_type": "code",
   "execution_count": null,
   "id": "8e108550-56a4-4b48-8936-b7bb18564ac0",
   "metadata": {},
   "outputs": [],
   "source": [
    "# Settings\n",
    "dims = [\"x\", \"xp\", \"y\", \"yp\", \"w\"]\n",
    "units = [\"mm\", \"mrad\", \"mm\", \"mrad\", \"MeV\"]\n",
    "dims_units = [f'{d} [{u}]' for d, u in zip(dims, units)]\n",
    "dim_to_int = {dim: i for i, dim in enumerate(dims)}\n",
    "prof_kws = dict(lw=1.0, alpha=0.5, color='white', scale=0.15)\n",
    "\n",
    "# Widgets\n",
    "default_ind = (2, 3)  # plot on initial render\n",
    "cmaps = ['viridis', 'dusk_r', 'mono_r', 'plasma']\n",
    "cmap = widgets.Dropdown(options=cmaps, description='cmap')\n",
    "thresh = widgets.FloatSlider(value=-5.0, min=-8.0, max=0.0, step=0.1, description='thresh', continuous_update=True)\n",
    "discrete = widgets.Checkbox(value=False, description='discrete')\n",
    "log = widgets.Checkbox(value=False, description='log')\n",
    "contour = widgets.Checkbox(value=False, description='contour')\n",
    "profiles = widgets.Checkbox(value=True, description='profiles')\n",
    "scale = widgets.FloatSlider(value=0.15, min=0.0, max=1.0, step=0.01, description='scale')\n",
    "dim1 = widgets.Dropdown(options=dims, index=default_ind[0], description='dim 1')\n",
    "dim2 = widgets.Dropdown(options=dims, index=default_ind[1], description='dim 2')\n",
    "\n",
    "# Sliders\n",
    "sliders, range_sliders, checks = [], [], []\n",
    "for k in range(5):\n",
    "    slider = widgets.IntSlider(\n",
    "        min=0, max=shape[k], value=shape[k]//2,\n",
    "        description=dims[k], \n",
    "        continuous_update=True,\n",
    "    )\n",
    "    range_slider = widgets.IntRangeSlider(\n",
    "        value=(0, f.shape[k]), min=0, max=f.shape[k],\n",
    "        description=dims[k], \n",
    "        continuous_update=True,\n",
    "    )\n",
    "    for _slider in (slider, range_slider):\n",
    "        slider.layout.display = 'none'\n",
    "    sliders.append(slider)\n",
    "    range_sliders.append(range_slider)\n",
    "    checks.append(widgets.Checkbox(description=f'slice {dims[k]}'))\n",
    "    \n",
    "# Hide/show sliders.\n",
    "def hide(button):\n",
    "    for k in range(5):\n",
    "        # Hide elements for dimensions being plotted.\n",
    "        valid = dims[k] not in (dim1.value, dim2.value)\n",
    "        disp = None if valid else 'none'\n",
    "        for element in [sliders[k], range_sliders[k], checks[k]]:\n",
    "            element.layout.display = disp\n",
    "        # Uncheck boxes for dimensions being plotted. \n",
    "        if not valid and checks[k].value:\n",
    "            checks[k].value = False\n",
    "        # Make sliders respond to check boxes.\n",
    "        if not checks[k].value:\n",
    "            for slider in [sliders[k], range_sliders[k]]:\n",
    "                slider.layout.display = 'none'\n",
    "                \n",
    "for element in (dim1, dim2, *checks):\n",
    "    element.observe(hide, names='value')\n",
    "# Initial hide\n",
    "for k in range(5):\n",
    "    if k in default_ind:\n",
    "        checks[k].layout.display = 'none'\n",
    "    for slider in [sliders[k], range_sliders[k]]:\n",
    "        slider.layout.display = 'none'"
   ]
  },
  {
   "cell_type": "code",
   "execution_count": null,
   "id": "bca95da7-8e77-480f-af04-4ecb67eb0bbd",
   "metadata": {},
   "outputs": [],
   "source": [
    "def update(dim1, dim2, check_x, check_xp, check_y, check_yp, check_w, \n",
    "           x, xp, y, yp, w, log, profiles, thresh, cmap):\n",
    "    if (dim1 == dim2):\n",
    "        return\n",
    "    checks = [check_x, check_xp, check_y, check_yp, check_w]\n",
    "    for dim, check in zip(dims, checks):\n",
    "        if check and dim in (dim1, dim2):\n",
    "            return\n",
    "    axis_view = [dim_to_int[dim] for dim in (dim1, dim2)]\n",
    "    axis_slice = [dim_to_int[dim] for dim, check in zip(dims, checks) if check]\n",
    "    ind = [x, xp, y, yp, w]\n",
    "    for k in range(5):\n",
    "        if type(ind[k]) is int:\n",
    "            ind[k] = (ind[k], ind[k] + 1)\n",
    "    ind = [ind[k] for k in axis_slice]\n",
    "    H = f[utils.make_slice(f.ndim, axis_slice, ind)]\n",
    "    H = utils.project(H, axis_view)\n",
    "    H_max = np.max(H)\n",
    "    if H_max > 0:\n",
    "        H = H / H_max\n",
    "        \n",
    "    fig, ax = pplt.subplots()\n",
    "    mplt.plot_image(\n",
    "        H, x=coords[axis_view[0]], y=coords[axis_view[1]], ax=ax, \n",
    "        norm='log' if log else None,\n",
    "        frac_thresh=10.0**thresh,\n",
    "        profx=profiles,\n",
    "        profy=profiles,\n",
    "        prof_kws=dict(lw=1.0, alpha=0.75, color='white', scale=0.15),\n",
    "        cmap=cmap,\n",
    "        colorbar=True,\n",
    "    )\n",
    "    ax.format(xlabel=dims_units[axis_view[0]], ylabel=dims_units[axis_view[1]])\n",
    "    plt.show()"
   ]
  },
  {
   "cell_type": "markdown",
   "id": "26ba4ab9-8443-474d-be52-2a60060f3828",
   "metadata": {},
   "source": [
    "### 2D projection of int slice "
   ]
  },
  {
   "cell_type": "markdown",
   "id": "3ad791ac-26b1-4078-9c04-2963940d1718",
   "metadata": {},
   "source": [
    "Slicing along each dimension is controlled by the checkboxes and sliders. The sliced distribution is projected onto dimensions `dim1` and `dim2`. "
   ]
  },
  {
   "cell_type": "code",
   "execution_count": null,
   "id": "028ad31c-b6d2-43d6-bb08-b317c6a68e24",
   "metadata": {},
   "outputs": [],
   "source": [
    "interactive(\n",
    "    update, \n",
    "    dim1=dim1, dim2=dim2, \n",
    "    check_x=checks[0], check_xp=checks[1], check_y=checks[2], check_yp=checks[3], check_w=checks[4],\n",
    "    x=sliders[0], xp=sliders[1], y=sliders[2], yp=sliders[3], w=sliders[4],\n",
    "    log=log, profiles=profiles, thresh=thresh, cmap=cmap,\n",
    ")"
   ]
  },
  {
   "cell_type": "markdown",
   "id": "4f815248-e1e7-4994-9c30-b57e7ff63c4a",
   "metadata": {},
   "source": [
    "### 2D projection of range slice"
   ]
  },
  {
   "cell_type": "markdown",
   "id": "ec958384-abaa-4ad5-97f1-9658c4e2d550",
   "metadata": {},
   "source": [
    "This allows us to slice a range of indices along each dimension. Unfortunately, ipywidgets does not currently allow you to drag the center of the range slider. "
   ]
  },
  {
   "cell_type": "code",
   "execution_count": null,
   "id": "1f9ab531-836c-40e9-a71e-b95a993fedea",
   "metadata": {},
   "outputs": [],
   "source": [
    "interactive(\n",
    "    update, \n",
    "    dim1=dim1, dim2=dim2, \n",
    "    check_x=checks[0], check_xp=checks[1], check_y=checks[2], \n",
    "    check_yp=checks[3], check_w=checks[4],\n",
    "    x=range_sliders[0], xp=range_sliders[1], y=range_sliders[2], \n",
    "    yp=range_sliders[3], w=range_sliders[4],\n",
    "    log=log, profiles=profiles, thresh=thresh, cmap=cmap,\n",
    ")"
   ]
  }
 ],
 "metadata": {
  "kernelspec": {
   "display_name": "Python 3",
   "language": "python",
   "name": "python3"
  },
  "language_info": {
   "codemirror_mode": {
    "name": "ipython",
    "version": 3
   },
   "file_extension": ".py",
   "mimetype": "text/x-python",
   "name": "python",
   "nbconvert_exporter": "python",
   "pygments_lexer": "ipython3",
   "version": "3.7.6"
  }
 },
 "nbformat": 4,
 "nbformat_minor": 5
}
